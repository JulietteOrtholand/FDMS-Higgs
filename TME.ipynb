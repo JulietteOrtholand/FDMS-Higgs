{
 "cells": [
  {
   "cell_type": "code",
   "execution_count": 26,
   "metadata": {},
   "outputs": [
    {
     "name": "stdout",
     "output_type": "stream",
     "text": [
      "The autoreload extension is already loaded. To reload it, use:\n",
      "  %reload_ext autoreload\n"
     ]
    }
   ],
   "source": [
    "%load_ext autoreload\n",
    "%autoreload 2\n",
    "\n",
    "import pandas as pd\n",
    "import numpy as np\n",
    "import matplotlib.pyplot as plt\n",
    "import copy\n",
    "\n",
    "from sklearn.ensemble import RandomForestClassifier\n",
    "from sklearn.tree import DecisionTreeClassifier\n",
    "from sklearn.tree import export_graphviz\n",
    "from sklearn.model_selection import cross_val_score\n",
    "from sklearn.ensemble import RandomForestClassifier\n",
    "from sklearn import svm\n",
    "from sklearn.tree import DecisionTreeClassifier\n",
    "from sklearn.naive_bayes import GaussianNB\n",
    "from sklearn.tree import export_graphviz\n",
    "from sklearn.linear_model import Perceptron\n",
    "from sklearn.dummy import DummyClassifier\n",
    "from sklearn.metrics import roc_curve \n",
    "from sklearn.ensemble import GradientBoostingClassifier\n",
    "from sklearn.ensemble import RandomForestClassifier\n",
    "from sklearn.neighbors import KNeighborsRegressor"
   ]
  },
  {
   "cell_type": "code",
   "execution_count": 37,
   "metadata": {},
   "outputs": [],
   "source": [
    "def ams_score(ypred,y,weight):\n",
    "    df = pd.concat([ypred,y,weight],axis=1)\n",
    "    df.columns = ['ypred','y','weight']\n",
    "    s = df[df['ypred']==1][df['y']==1]['weight'].sum()\n",
    "    b = df[df['ypred']==1][df['y']==0]['weight'].sum()\n",
    "    \n",
    "    br = 10.0\n",
    "    radicand = 2 *( (s+b+br) * np.log (1.0 + s/(b+br)) -s)\n",
    "    if radicand < 0:\n",
    "        print('radicand is negative. Exiting')\n",
    "    else:\n",
    "        return np.sqrt(radicand)"
   ]
  },
  {
   "cell_type": "code",
   "execution_count": 3,
   "metadata": {},
   "outputs": [],
   "source": [
    "#Load database\n",
    "df = pd.read_csv(\"atlas-higgs-challenge-2014-v2.csv\")\n",
    "\n",
    "#Traitement des valeurs manquantes\n",
    "df= df.replace(-999, np.nan)\n",
    "moy_col = df.mean()\n",
    "for i in df.columns:\n",
    "    if i not in ['EventId','KaggleWeight','Weight', \"KaggleSet\",\"Label\"] :\n",
    "        df[i] = df[i].replace(np.nan, moy_col[i])"
   ]
  },
  {
   "cell_type": "code",
   "execution_count": 7,
   "metadata": {},
   "outputs": [],
   "source": [
    "#Creation du training set \n",
    "df_train = df[df['KaggleSet']=='t']\n",
    "x_train = copy.copy(df_train).drop(\n",
    "    ['EventId','KaggleWeight','Weight', \"KaggleSet\",\"Label\"], axis =1)\n",
    "y_train = copy.copy(df_train['Label'])\n",
    "y_train = y_train.replace('s',1)\n",
    "y_train = y_train.replace('b',0)\n",
    "\n",
    "#Création testing set\n",
    "df_test = df[df['KaggleSet']!='t']\n",
    "df_test = df_test[df_test['KaggleSet']!='u']\n",
    "x_test = copy.copy(df_test).drop(\n",
    "    ['EventId','KaggleWeight','Weight', \"KaggleSet\",\"Label\"], axis =1)\n",
    "y_test = copy.copy(df_test['Label'])\n",
    "y_test = y_test.replace('s',1)\n",
    "y_test = y_test.replace('b',0)\n",
    "\n",
    "#Création pour score AMS\n",
    "'''Solution File header: EventId, Class, Weight\n",
    "Submission File header: EventId, RankOrder, Class'''\n",
    "\n",
    "df_solution = pd.DataFrame()\n",
    "df_solution['EventId'] = df_test['EventId']\n",
    "df_solution['Label'] = df_test['Label']\n",
    "df_solution['Weight'] = df_test['Weight']\n",
    "df_solution.to_csv('solution', index=False)\n",
    "\n",
    "df_submission = pd.DataFrame()\n",
    "df_submission['EventId'] = df_test['EventId']\n",
    "df_submission['RankOrder'] = df_test['EventId'] #pas nutilisé par AMS\n"
   ]
  },
  {
   "cell_type": "code",
   "execution_count": 38,
   "metadata": {},
   "outputs": [
    {
     "name": "stderr",
     "output_type": "stream",
     "text": [
      "C:\\ProgramData\\Anaconda3\\lib\\site-packages\\ipykernel_launcher.py:4: UserWarning: Boolean Series key will be reindexed to match DataFrame index.\n",
      "  after removing the cwd from sys.path.\n",
      "C:\\ProgramData\\Anaconda3\\lib\\site-packages\\ipykernel_launcher.py:5: UserWarning: Boolean Series key will be reindexed to match DataFrame index.\n",
      "  \"\"\"\n"
     ]
    }
   ],
   "source": [
    "#Base line par caractéristique\n",
    "accuracy_train_list = []\n",
    "accuracy_test_list = []\n",
    "ams_list = []\n",
    "for col in x_train.columns:\n",
    "    #crée les nouveaux sets\n",
    "    x_train_col = x_train[col].to_frame()\n",
    "    x_test_col = x_test[col].to_frame()\n",
    "    \n",
    "    clf = DecisionTreeClassifier(max_depth = 10)\n",
    "    clf.fit(x_train_col,y_train)\n",
    "    ypred = pd.DataFrame(clf.predict(x_test_col),index = y_test.index)\n",
    "    ams_list.append(ams_score(ypred,y_test,df_test['Weight']))\n",
    "    accuracy_train_list.append(clf.score(x_train_col,y_train))\n",
    "    accuracy_test_list.append(clf.score(x_test_col,y_test))\n",
    "    \n",
    "#Sauvegarde des scores\n",
    "df_scores = pd.DataFrame([accuracy_train_list,accuracy_test_list,ams_list],\n",
    "                         columns= x_train.columns,\n",
    "                         index = ['train_acc','test_acc','ams'])\n",
    "writer = pd.ExcelWriter('baseline_caracteristique.xlsx')\n",
    "df_scores.to_excel(writer,'Sheet1')\n",
    "writer.save()"
   ]
  },
  {
   "cell_type": "code",
   "execution_count": 39,
   "metadata": {},
   "outputs": [
    {
     "name": "stderr",
     "output_type": "stream",
     "text": [
      "C:\\ProgramData\\Anaconda3\\lib\\site-packages\\ipykernel_launcher.py:4: UserWarning: Boolean Series key will be reindexed to match DataFrame index.\n",
      "  after removing the cwd from sys.path.\n",
      "C:\\ProgramData\\Anaconda3\\lib\\site-packages\\ipykernel_launcher.py:5: UserWarning: Boolean Series key will be reindexed to match DataFrame index.\n",
      "  \"\"\"\n"
     ]
    },
    {
     "name": "stdout",
     "output_type": "stream",
     "text": [
      "2.102925949182895\n",
      "0.834736\n",
      "0.8218563636363636\n"
     ]
    }
   ],
   "source": [
    "#Baseline toutes les caractéristiques \n",
    "clf = DecisionTreeClassifier(max_depth = 10)\n",
    "clf.fit(x_train,y_train)\n",
    "ypred = pd.DataFrame(clf.predict(x_test),index = y_test.index)\n",
    "print(ams_score(ypred,y_test,df_test['Weight']))\n",
    "print(clf.score(x_train,y_train))\n",
    "print(clf.score(x_test,y_test))\n"
   ]
  },
  {
   "cell_type": "code",
   "execution_count": 41,
   "metadata": {
    "scrolled": true
   },
   "outputs": [
    {
     "name": "stderr",
     "output_type": "stream",
     "text": [
      "C:\\ProgramData\\Anaconda3\\lib\\site-packages\\ipykernel_launcher.py:4: UserWarning: Boolean Series key will be reindexed to match DataFrame index.\n",
      "  after removing the cwd from sys.path.\n",
      "C:\\ProgramData\\Anaconda3\\lib\\site-packages\\ipykernel_launcher.py:5: UserWarning: Boolean Series key will be reindexed to match DataFrame index.\n",
      "  \"\"\"\n",
      "C:\\ProgramData\\Anaconda3\\lib\\site-packages\\ipykernel_launcher.py:4: UserWarning: Boolean Series key will be reindexed to match DataFrame index.\n",
      "  after removing the cwd from sys.path.\n",
      "C:\\ProgramData\\Anaconda3\\lib\\site-packages\\ipykernel_launcher.py:5: UserWarning: Boolean Series key will be reindexed to match DataFrame index.\n",
      "  \"\"\"\n"
     ]
    }
   ],
   "source": [
    "#Baseline avec toutes les caractéristique sans jouer sur les paramètres \n",
    "accuracy_train_list = []\n",
    "accuracy_test_list = []\n",
    "ams_list = []\n",
    "list_algo = [GradientBoostingClassifier(),\n",
    "          RandomForestClassifier(),\n",
    "          KNeighborsRegressor()]\n",
    "for clf in list_algo:\n",
    "    clf.fit(x_train,y_train)\n",
    "    ypred = pd.DataFrame(clf.predict(x_test),index = y_test.index)\n",
    "    ams_list.append(ams_score(ypred,y_test,df_test['Weight']))\n",
    "    accuracy_train_list.append(clf.score(x_train,y_train))\n",
    "    accuracy_test_list.append(clf.score(x_test,y_test))\n",
    "    \n",
    "#Sauvegarde des scores\n",
    "df_scores = pd.DataFrame([accuracy_train_list,accuracy_test_list,ams_list],\n",
    "                         columns= ['grad_boost','random_forest','k_neighbors'],\n",
    "                        index = ['train_acc','test_acc','ams'])\n",
    "writer = pd.ExcelWriter('naive_results.xlsx')\n",
    "df_scores.to_excel(writer,'Sheet1')\n",
    "writer.save()"
   ]
  },
  {
   "cell_type": "code",
   "execution_count": null,
   "metadata": {},
   "outputs": [
    {
     "name": "stderr",
     "output_type": "stream",
     "text": [
      "C:\\ProgramData\\Anaconda3\\lib\\site-packages\\ipykernel_launcher.py:4: UserWarning: Boolean Series key will be reindexed to match DataFrame index.\n",
      "  after removing the cwd from sys.path.\n",
      "C:\\ProgramData\\Anaconda3\\lib\\site-packages\\ipykernel_launcher.py:5: UserWarning: Boolean Series key will be reindexed to match DataFrame index.\n",
      "  \"\"\"\n",
      "C:\\ProgramData\\Anaconda3\\lib\\site-packages\\ipykernel_launcher.py:4: UserWarning: Boolean Series key will be reindexed to match DataFrame index.\n",
      "  after removing the cwd from sys.path.\n",
      "C:\\ProgramData\\Anaconda3\\lib\\site-packages\\ipykernel_launcher.py:5: UserWarning: Boolean Series key will be reindexed to match DataFrame index.\n",
      "  \"\"\"\n",
      "C:\\ProgramData\\Anaconda3\\lib\\site-packages\\ipykernel_launcher.py:4: UserWarning: Boolean Series key will be reindexed to match DataFrame index.\n",
      "  after removing the cwd from sys.path.\n",
      "C:\\ProgramData\\Anaconda3\\lib\\site-packages\\ipykernel_launcher.py:5: UserWarning: Boolean Series key will be reindexed to match DataFrame index.\n",
      "  \"\"\"\n"
     ]
    }
   ],
   "source": [
    "#Baseline avec toutes les caractéristique en jouant sur les paramètres \n",
    "accuracy_train_list = []\n",
    "accuracy_test_list = []\n",
    "ams_list = []\n",
    "list_algo = [GradientBoostingClassifier(loss = 'exponential'),\n",
    "          RandomForestClassifier(n_estimators=20),\n",
    "          RandomForestClassifier(n_estimators=30,max_depth = 15),\n",
    "          KNeighborsRegressor(weights = 'distance'),\n",
    "          KNeighborsRegressor(weights = 'distance', n_neighbors = 10),\n",
    "          KNeighborsRegressor(n_neighbors = 10)]\n",
    "for clf in list_algo:\n",
    "    clf.fit(x_train,y_train)\n",
    "    ypred = pd.DataFrame(clf.predict(x_test),index = y_test.index)\n",
    "    ams_list.append(ams_score(ypred,y_test,df_test['Weight']))\n",
    "    accuracy_train_list.append(clf.score(x_train,y_train))\n",
    "    accuracy_test_list.append(clf.score(x_test,y_test))\n",
    "    \n",
    "#Sauvegarde des scores\n",
    "df_scores = pd.DataFrame([accuracy_train_list,accuracy_test_list,ams_list],\n",
    "                         columns= ['grad_boost[adaboost]','random_forest[20]','random_forest[30,15]',\n",
    "                                   'k_neighbors[distance]','k_neighbors[distance,10]',\n",
    "                                   'k_neighbors[10]'],\n",
    "                        index = ['train_acc','test_acc','ams'])\n",
    "writer = pd.ExcelWriter('param_results_v1.xlsx')\n",
    "df_scores.to_excel(writer,'Sheet1')\n",
    "writer.save()"
   ]
  },
  {
   "cell_type": "code",
   "execution_count": 47,
   "metadata": {},
   "outputs": [
    {
     "data": {
      "text/plain": [
       "[2.233902294077339,\n",
       " 2.2943544345009306,\n",
       " 2.336065680545118,\n",
       " 1.794332094947172,\n",
       " 1.6142495525945528]"
      ]
     },
     "execution_count": 47,
     "metadata": {},
     "output_type": "execute_result"
    }
   ],
   "source": [
    "ams_list"
   ]
  },
  {
   "cell_type": "code",
   "execution_count": null,
   "metadata": {},
   "outputs": [],
   "source": [
    "KNeighborsRegressor:\n",
    "   - n_neighbors: (5) plus proche voisin\n",
    "   - weight: (uniform) tester avec 'distance'\n",
    "\n",
    "RandomForestClassifier:\n",
    "    - n_estimators: (10) nombres d'arbre dans la foret,\n",
    "    - max_depth: (None) profondeur max des arbres\n",
    "\n",
    "GradientBoostingClassifier:\n",
    "    - loss: (deviance): tester exponential (adaboost)\n",
    "    - n_estimators: (100) "
   ]
  }
 ],
 "metadata": {
  "kernelspec": {
   "display_name": "Python 3",
   "language": "python",
   "name": "python3"
  },
  "language_info": {
   "codemirror_mode": {
    "name": "ipython",
    "version": 3
   },
   "file_extension": ".py",
   "mimetype": "text/x-python",
   "name": "python",
   "nbconvert_exporter": "python",
   "pygments_lexer": "ipython3",
   "version": "3.6.5"
  }
 },
 "nbformat": 4,
 "nbformat_minor": 2
}
